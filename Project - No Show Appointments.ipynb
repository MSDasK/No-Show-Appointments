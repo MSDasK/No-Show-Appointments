{
 "cells": [
  {
   "cell_type": "markdown",
   "metadata": {},
   "source": [
    "# Project: No-show appointments\n",
    "\n",
    "## Table of Contents\n",
    "<ul>\n",
    "<li><a href=\"#intro\">Introduction</a></li>\n",
    "<li><a href=\"#wrangling\">Data Wrangling</a></li>\n",
    "<li><a href=\"#eda\">Exploratory Data Analysis</a></li>\n",
    "<li><a href=\"#conclusions\">Conclusions</a></li>\n",
    "</ul>"
   ]
  },
  {
   "cell_type": "markdown",
   "metadata": {},
   "source": [
    "<a id='intro'></a>\n",
    "## Introduction\n",
    "\n",
    "This project is based on the dataset related to the information of 100k medical appointments in Brazil and is focused on the question of whether or not patients show up for their appointment. The dataset is provided by JoniHoppen on Kaggle.\n",
    "\n",
    "The dataset has been provided with number of varaibles which are related to the patients as well as the their show up details for their appointment. The purpose of this project is explore the varaibles relationship with the show up details.\n",
    "\n",
    "Below are the varaibles which are mentioned in the file:\n",
    "1. Patient ID \n",
    "2. Appointment ID  \n",
    "3. Gender \n",
    "4. Scheduled Day \n",
    "5. Appointment Day \n",
    "6. Age \n",
    "7. Neighbourhood \n",
    "8. Scholarship \n",
    "9. Hypertension \n",
    "10. Diabetes \n",
    "11. Alcoholism \n",
    "12. Handicap\n",
    "13. SMS_received\n",
    "14. Show up \n",
    "\n",
    "Questions:\n",
    "\n",
    "1. How many number of patients turned up for the appointment?\n",
    "2. How did the gender of the patient differ over the turn up for the appointment?\n",
    "3. Did the paitents turn up because of the prioir sms of the appointment?\n",
    "4. what are the total appointments by age group and how did each age group turned up to the appointment?\n",
    "5. what is propotion of turn up on any day of the week?\n",
    "6. Are Hypertension and Diabetes patients turn up significantly compared to non-hypertension and diabetes?\n",
    "7. which Neighbourhood has high number of appointment ?\n",
    "8. How many patients have Scholarship and does that influence the turn up for the appointment?\n"
   ]
  },
  {
   "cell_type": "code",
   "execution_count": 1,
   "metadata": {},
   "outputs": [],
   "source": [
    "# import libaries \n",
    "import pandas as pd\n",
    "import numpy as np\n",
    "import matplotlib.pyplot as plt\n",
    "%matplotlib inline\n",
    "import seaborn as sns\n",
    "sns.set_style('darkgrid')"
   ]
  },
  {
   "cell_type": "markdown",
   "metadata": {},
   "source": [
    "<a id='wrangling'></a>\n",
    "## Data Wrangling\n",
    "\n",
    "\n",
    "### General Properties"
   ]
  },
  {
   "cell_type": "code",
   "execution_count": 2,
   "metadata": {},
   "outputs": [
    {
     "data": {
      "text/html": [
       "<div>\n",
       "<style scoped>\n",
       "    .dataframe tbody tr th:only-of-type {\n",
       "        vertical-align: middle;\n",
       "    }\n",
       "\n",
       "    .dataframe tbody tr th {\n",
       "        vertical-align: top;\n",
       "    }\n",
       "\n",
       "    .dataframe thead th {\n",
       "        text-align: right;\n",
       "    }\n",
       "</style>\n",
       "<table border=\"1\" class=\"dataframe\">\n",
       "  <thead>\n",
       "    <tr style=\"text-align: right;\">\n",
       "      <th></th>\n",
       "      <th>PatientId</th>\n",
       "      <th>AppointmentID</th>\n",
       "      <th>Gender</th>\n",
       "      <th>ScheduledDay</th>\n",
       "      <th>AppointmentDay</th>\n",
       "      <th>Age</th>\n",
       "      <th>Neighbourhood</th>\n",
       "      <th>Scholarship</th>\n",
       "      <th>Hipertension</th>\n",
       "      <th>Diabetes</th>\n",
       "      <th>Alcoholism</th>\n",
       "      <th>Handcap</th>\n",
       "      <th>SMS_received</th>\n",
       "      <th>No-show</th>\n",
       "    </tr>\n",
       "  </thead>\n",
       "  <tbody>\n",
       "    <tr>\n",
       "      <th>0</th>\n",
       "      <td>2.987250e+13</td>\n",
       "      <td>5642903</td>\n",
       "      <td>F</td>\n",
       "      <td>2016-04-29T18:38:08Z</td>\n",
       "      <td>2016-04-29T00:00:00Z</td>\n",
       "      <td>62</td>\n",
       "      <td>JARDIM DA PENHA</td>\n",
       "      <td>0</td>\n",
       "      <td>1</td>\n",
       "      <td>0</td>\n",
       "      <td>0</td>\n",
       "      <td>0</td>\n",
       "      <td>0</td>\n",
       "      <td>No</td>\n",
       "    </tr>\n",
       "    <tr>\n",
       "      <th>1</th>\n",
       "      <td>5.589978e+14</td>\n",
       "      <td>5642503</td>\n",
       "      <td>M</td>\n",
       "      <td>2016-04-29T16:08:27Z</td>\n",
       "      <td>2016-04-29T00:00:00Z</td>\n",
       "      <td>56</td>\n",
       "      <td>JARDIM DA PENHA</td>\n",
       "      <td>0</td>\n",
       "      <td>0</td>\n",
       "      <td>0</td>\n",
       "      <td>0</td>\n",
       "      <td>0</td>\n",
       "      <td>0</td>\n",
       "      <td>No</td>\n",
       "    </tr>\n",
       "    <tr>\n",
       "      <th>2</th>\n",
       "      <td>4.262962e+12</td>\n",
       "      <td>5642549</td>\n",
       "      <td>F</td>\n",
       "      <td>2016-04-29T16:19:04Z</td>\n",
       "      <td>2016-04-29T00:00:00Z</td>\n",
       "      <td>62</td>\n",
       "      <td>MATA DA PRAIA</td>\n",
       "      <td>0</td>\n",
       "      <td>0</td>\n",
       "      <td>0</td>\n",
       "      <td>0</td>\n",
       "      <td>0</td>\n",
       "      <td>0</td>\n",
       "      <td>No</td>\n",
       "    </tr>\n",
       "    <tr>\n",
       "      <th>3</th>\n",
       "      <td>8.679512e+11</td>\n",
       "      <td>5642828</td>\n",
       "      <td>F</td>\n",
       "      <td>2016-04-29T17:29:31Z</td>\n",
       "      <td>2016-04-29T00:00:00Z</td>\n",
       "      <td>8</td>\n",
       "      <td>PONTAL DE CAMBURI</td>\n",
       "      <td>0</td>\n",
       "      <td>0</td>\n",
       "      <td>0</td>\n",
       "      <td>0</td>\n",
       "      <td>0</td>\n",
       "      <td>0</td>\n",
       "      <td>No</td>\n",
       "    </tr>\n",
       "    <tr>\n",
       "      <th>4</th>\n",
       "      <td>8.841186e+12</td>\n",
       "      <td>5642494</td>\n",
       "      <td>F</td>\n",
       "      <td>2016-04-29T16:07:23Z</td>\n",
       "      <td>2016-04-29T00:00:00Z</td>\n",
       "      <td>56</td>\n",
       "      <td>JARDIM DA PENHA</td>\n",
       "      <td>0</td>\n",
       "      <td>1</td>\n",
       "      <td>1</td>\n",
       "      <td>0</td>\n",
       "      <td>0</td>\n",
       "      <td>0</td>\n",
       "      <td>No</td>\n",
       "    </tr>\n",
       "  </tbody>\n",
       "</table>\n",
       "</div>"
      ],
      "text/plain": [
       "      PatientId  AppointmentID Gender          ScheduledDay  \\\n",
       "0  2.987250e+13        5642903      F  2016-04-29T18:38:08Z   \n",
       "1  5.589978e+14        5642503      M  2016-04-29T16:08:27Z   \n",
       "2  4.262962e+12        5642549      F  2016-04-29T16:19:04Z   \n",
       "3  8.679512e+11        5642828      F  2016-04-29T17:29:31Z   \n",
       "4  8.841186e+12        5642494      F  2016-04-29T16:07:23Z   \n",
       "\n",
       "         AppointmentDay  Age      Neighbourhood  Scholarship  Hipertension  \\\n",
       "0  2016-04-29T00:00:00Z   62    JARDIM DA PENHA            0             1   \n",
       "1  2016-04-29T00:00:00Z   56    JARDIM DA PENHA            0             0   \n",
       "2  2016-04-29T00:00:00Z   62      MATA DA PRAIA            0             0   \n",
       "3  2016-04-29T00:00:00Z    8  PONTAL DE CAMBURI            0             0   \n",
       "4  2016-04-29T00:00:00Z   56    JARDIM DA PENHA            0             1   \n",
       "\n",
       "   Diabetes  Alcoholism  Handcap  SMS_received No-show  \n",
       "0         0           0        0             0      No  \n",
       "1         0           0        0             0      No  \n",
       "2         0           0        0             0      No  \n",
       "3         0           0        0             0      No  \n",
       "4         1           0        0             0      No  "
      ]
     },
     "execution_count": 2,
     "metadata": {},
     "output_type": "execute_result"
    }
   ],
   "source": [
    "#Load your data\n",
    "df_noshow = pd.read_csv(\"KaggleV2-May-2016.csv\")\n",
    "\n",
    "#view dataset\n",
    "df_noshow.head()"
   ]
  },
  {
   "cell_type": "code",
   "execution_count": 3,
   "metadata": {},
   "outputs": [
    {
     "data": {
      "text/plain": [
       "(110527, 14)"
      ]
     },
     "execution_count": 3,
     "metadata": {},
     "output_type": "execute_result"
    }
   ],
   "source": [
    "#check for number of rows and columns\n",
    "df_noshow.shape"
   ]
  },
  {
   "cell_type": "code",
   "execution_count": 4,
   "metadata": {},
   "outputs": [
    {
     "data": {
      "text/plain": [
       "Index(['PatientId', 'AppointmentID', 'Gender', 'ScheduledDay',\n",
       "       'AppointmentDay', 'Age', 'Neighbourhood', 'Scholarship', 'Hipertension',\n",
       "       'Diabetes', 'Alcoholism', 'Handcap', 'SMS_received', 'No-show'],\n",
       "      dtype='object')"
      ]
     },
     "execution_count": 4,
     "metadata": {},
     "output_type": "execute_result"
    }
   ],
   "source": [
    "#check columns name\n",
    "df_noshow.columns"
   ]
  },
  {
   "cell_type": "code",
   "execution_count": 5,
   "metadata": {},
   "outputs": [
    {
     "data": {
      "text/plain": [
       "PatientId         0\n",
       "AppointmentID     0\n",
       "Gender            0\n",
       "ScheduledDay      0\n",
       "AppointmentDay    0\n",
       "Age               0\n",
       "Neighbourhood     0\n",
       "Scholarship       0\n",
       "Hipertension      0\n",
       "Diabetes          0\n",
       "Alcoholism        0\n",
       "Handcap           0\n",
       "SMS_received      0\n",
       "No-show           0\n",
       "dtype: int64"
      ]
     },
     "execution_count": 5,
     "metadata": {},
     "output_type": "execute_result"
    }
   ],
   "source": [
    "#check for missing data\n",
    "df_noshow.isnull().sum()"
   ]
  },
  {
   "cell_type": "code",
   "execution_count": 6,
   "metadata": {},
   "outputs": [
    {
     "data": {
      "text/html": [
       "<div>\n",
       "<style scoped>\n",
       "    .dataframe tbody tr th:only-of-type {\n",
       "        vertical-align: middle;\n",
       "    }\n",
       "\n",
       "    .dataframe tbody tr th {\n",
       "        vertical-align: top;\n",
       "    }\n",
       "\n",
       "    .dataframe thead th {\n",
       "        text-align: right;\n",
       "    }\n",
       "</style>\n",
       "<table border=\"1\" class=\"dataframe\">\n",
       "  <thead>\n",
       "    <tr style=\"text-align: right;\">\n",
       "      <th></th>\n",
       "      <th>PatientId</th>\n",
       "      <th>AppointmentID</th>\n",
       "      <th>Age</th>\n",
       "      <th>Scholarship</th>\n",
       "      <th>Hipertension</th>\n",
       "      <th>Diabetes</th>\n",
       "      <th>Alcoholism</th>\n",
       "      <th>Handcap</th>\n",
       "      <th>SMS_received</th>\n",
       "    </tr>\n",
       "  </thead>\n",
       "  <tbody>\n",
       "    <tr>\n",
       "      <th>count</th>\n",
       "      <td>1.105270e+05</td>\n",
       "      <td>1.105270e+05</td>\n",
       "      <td>110527.000000</td>\n",
       "      <td>110527.000000</td>\n",
       "      <td>110527.000000</td>\n",
       "      <td>110527.000000</td>\n",
       "      <td>110527.000000</td>\n",
       "      <td>110527.000000</td>\n",
       "      <td>110527.000000</td>\n",
       "    </tr>\n",
       "    <tr>\n",
       "      <th>mean</th>\n",
       "      <td>1.474963e+14</td>\n",
       "      <td>5.675305e+06</td>\n",
       "      <td>37.088874</td>\n",
       "      <td>0.098266</td>\n",
       "      <td>0.197246</td>\n",
       "      <td>0.071865</td>\n",
       "      <td>0.030400</td>\n",
       "      <td>0.022248</td>\n",
       "      <td>0.321026</td>\n",
       "    </tr>\n",
       "    <tr>\n",
       "      <th>std</th>\n",
       "      <td>2.560949e+14</td>\n",
       "      <td>7.129575e+04</td>\n",
       "      <td>23.110205</td>\n",
       "      <td>0.297675</td>\n",
       "      <td>0.397921</td>\n",
       "      <td>0.258265</td>\n",
       "      <td>0.171686</td>\n",
       "      <td>0.161543</td>\n",
       "      <td>0.466873</td>\n",
       "    </tr>\n",
       "    <tr>\n",
       "      <th>min</th>\n",
       "      <td>3.921784e+04</td>\n",
       "      <td>5.030230e+06</td>\n",
       "      <td>-1.000000</td>\n",
       "      <td>0.000000</td>\n",
       "      <td>0.000000</td>\n",
       "      <td>0.000000</td>\n",
       "      <td>0.000000</td>\n",
       "      <td>0.000000</td>\n",
       "      <td>0.000000</td>\n",
       "    </tr>\n",
       "    <tr>\n",
       "      <th>25%</th>\n",
       "      <td>4.172614e+12</td>\n",
       "      <td>5.640286e+06</td>\n",
       "      <td>18.000000</td>\n",
       "      <td>0.000000</td>\n",
       "      <td>0.000000</td>\n",
       "      <td>0.000000</td>\n",
       "      <td>0.000000</td>\n",
       "      <td>0.000000</td>\n",
       "      <td>0.000000</td>\n",
       "    </tr>\n",
       "    <tr>\n",
       "      <th>50%</th>\n",
       "      <td>3.173184e+13</td>\n",
       "      <td>5.680573e+06</td>\n",
       "      <td>37.000000</td>\n",
       "      <td>0.000000</td>\n",
       "      <td>0.000000</td>\n",
       "      <td>0.000000</td>\n",
       "      <td>0.000000</td>\n",
       "      <td>0.000000</td>\n",
       "      <td>0.000000</td>\n",
       "    </tr>\n",
       "    <tr>\n",
       "      <th>75%</th>\n",
       "      <td>9.439172e+13</td>\n",
       "      <td>5.725524e+06</td>\n",
       "      <td>55.000000</td>\n",
       "      <td>0.000000</td>\n",
       "      <td>0.000000</td>\n",
       "      <td>0.000000</td>\n",
       "      <td>0.000000</td>\n",
       "      <td>0.000000</td>\n",
       "      <td>1.000000</td>\n",
       "    </tr>\n",
       "    <tr>\n",
       "      <th>max</th>\n",
       "      <td>9.999816e+14</td>\n",
       "      <td>5.790484e+06</td>\n",
       "      <td>115.000000</td>\n",
       "      <td>1.000000</td>\n",
       "      <td>1.000000</td>\n",
       "      <td>1.000000</td>\n",
       "      <td>1.000000</td>\n",
       "      <td>4.000000</td>\n",
       "      <td>1.000000</td>\n",
       "    </tr>\n",
       "  </tbody>\n",
       "</table>\n",
       "</div>"
      ],
      "text/plain": [
       "          PatientId  AppointmentID            Age    Scholarship  \\\n",
       "count  1.105270e+05   1.105270e+05  110527.000000  110527.000000   \n",
       "mean   1.474963e+14   5.675305e+06      37.088874       0.098266   \n",
       "std    2.560949e+14   7.129575e+04      23.110205       0.297675   \n",
       "min    3.921784e+04   5.030230e+06      -1.000000       0.000000   \n",
       "25%    4.172614e+12   5.640286e+06      18.000000       0.000000   \n",
       "50%    3.173184e+13   5.680573e+06      37.000000       0.000000   \n",
       "75%    9.439172e+13   5.725524e+06      55.000000       0.000000   \n",
       "max    9.999816e+14   5.790484e+06     115.000000       1.000000   \n",
       "\n",
       "        Hipertension       Diabetes     Alcoholism        Handcap  \\\n",
       "count  110527.000000  110527.000000  110527.000000  110527.000000   \n",
       "mean        0.197246       0.071865       0.030400       0.022248   \n",
       "std         0.397921       0.258265       0.171686       0.161543   \n",
       "min         0.000000       0.000000       0.000000       0.000000   \n",
       "25%         0.000000       0.000000       0.000000       0.000000   \n",
       "50%         0.000000       0.000000       0.000000       0.000000   \n",
       "75%         0.000000       0.000000       0.000000       0.000000   \n",
       "max         1.000000       1.000000       1.000000       4.000000   \n",
       "\n",
       "        SMS_received  \n",
       "count  110527.000000  \n",
       "mean        0.321026  \n",
       "std         0.466873  \n",
       "min         0.000000  \n",
       "25%         0.000000  \n",
       "50%         0.000000  \n",
       "75%         1.000000  \n",
       "max         1.000000  "
      ]
     },
     "execution_count": 6,
     "metadata": {},
     "output_type": "execute_result"
    }
   ],
   "source": [
    "#show basic statistical details\n",
    "df_noshow.describe()"
   ]
  },
  {
   "cell_type": "code",
   "execution_count": 7,
   "metadata": {},
   "outputs": [
    {
     "data": {
      "text/plain": [
       "PatientId         float64\n",
       "AppointmentID       int64\n",
       "Gender             object\n",
       "ScheduledDay       object\n",
       "AppointmentDay     object\n",
       "Age                 int64\n",
       "Neighbourhood      object\n",
       "Scholarship         int64\n",
       "Hipertension        int64\n",
       "Diabetes            int64\n",
       "Alcoholism          int64\n",
       "Handcap             int64\n",
       "SMS_received        int64\n",
       "No-show            object\n",
       "dtype: object"
      ]
     },
     "execution_count": 7,
     "metadata": {},
     "output_type": "execute_result"
    }
   ],
   "source": [
    "#check for each variables data types\n",
    "df_noshow.dtypes"
   ]
  },
  {
   "cell_type": "code",
   "execution_count": 8,
   "metadata": {},
   "outputs": [
    {
     "name": "stdout",
     "output_type": "stream",
     "text": [
      "<class 'pandas.core.frame.DataFrame'>\n",
      "RangeIndex: 110527 entries, 0 to 110526\n",
      "Data columns (total 14 columns):\n",
      "PatientId         110527 non-null float64\n",
      "AppointmentID     110527 non-null int64\n",
      "Gender            110527 non-null object\n",
      "ScheduledDay      110527 non-null object\n",
      "AppointmentDay    110527 non-null object\n",
      "Age               110527 non-null int64\n",
      "Neighbourhood     110527 non-null object\n",
      "Scholarship       110527 non-null int64\n",
      "Hipertension      110527 non-null int64\n",
      "Diabetes          110527 non-null int64\n",
      "Alcoholism        110527 non-null int64\n",
      "Handcap           110527 non-null int64\n",
      "SMS_received      110527 non-null int64\n",
      "No-show           110527 non-null object\n",
      "dtypes: float64(1), int64(8), object(5)\n",
      "memory usage: 11.8+ MB\n"
     ]
    }
   ],
   "source": [
    "# data overview\n",
    "df_noshow.info()"
   ]
  },
  {
   "cell_type": "markdown",
   "metadata": {},
   "source": [
    "### Data Cleaning (No-show appointments!)"
   ]
  },
  {
   "cell_type": "code",
   "execution_count": 9,
   "metadata": {},
   "outputs": [
    {
     "data": {
      "text/plain": [
       "Index(['patientid', 'appointmentid', 'gender', 'scheduledday',\n",
       "       'appointmentday', 'age', 'neighbourhood', 'scholarship', 'hipertension',\n",
       "       'diabetes', 'alcoholism', 'handcap', 'sms_received', 'no_show'],\n",
       "      dtype='object')"
      ]
     },
     "execution_count": 9,
     "metadata": {},
     "output_type": "execute_result"
    }
   ],
   "source": [
    "#Replace with lower case labels for dataset and underscore for No show column\n",
    "df_noshow.rename(columns = lambda x: x.lower().replace(\"-\", \"_\"), inplace=True)\n",
    "\n",
    "#confirm changes\n",
    "df_noshow.columns"
   ]
  },
  {
   "cell_type": "code",
   "execution_count": 10,
   "metadata": {},
   "outputs": [
    {
     "data": {
      "text/plain": [
       "Index(['patientid', 'appointmentid', 'gender', 'scheduledday',\n",
       "       'appointmentday', 'age', 'neighbourhood', 'scholarship', 'hypertension',\n",
       "       'diabetes', 'alcoholism', 'handicap', 'sms_received', 'no_show'],\n",
       "      dtype='object')"
      ]
     },
     "execution_count": 10,
     "metadata": {},
     "output_type": "execute_result"
    }
   ],
   "source": [
    "#Rename hipertension and handcap column labels\n",
    "df_noshow.rename(columns = {'hipertension' : 'hypertension','handcap' : 'handicap'}, inplace = True)\n",
    "\n",
    "#confirm changes\n",
    "df_noshow.columns"
   ]
  },
  {
   "cell_type": "code",
   "execution_count": 11,
   "metadata": {},
   "outputs": [
    {
     "data": {
      "text/plain": [
       "0    1\n",
       "1    1\n",
       "2    1\n",
       "3    1\n",
       "4    1\n",
       "Name: no_show, dtype: int64"
      ]
     },
     "execution_count": 11,
     "metadata": {},
     "output_type": "execute_result"
    }
   ],
   "source": [
    "#convert no_show column into numeric values\n",
    "df_noshow.no_show = df_noshow.no_show.apply(lambda x: 1 if(x == \"No\")else 0)\n",
    "\n",
    "#confirm changes\n",
    "df_noshow.no_show.head()"
   ]
  },
  {
   "cell_type": "code",
   "execution_count": 12,
   "metadata": {},
   "outputs": [
    {
     "data": {
      "text/plain": [
       "patientid                float64\n",
       "appointmentid              int64\n",
       "gender                    object\n",
       "scheduledday      datetime64[ns]\n",
       "appointmentday    datetime64[ns]\n",
       "age                        int64\n",
       "neighbourhood             object\n",
       "scholarship                int64\n",
       "hypertension               int64\n",
       "diabetes                   int64\n",
       "alcoholism                 int64\n",
       "handicap                   int64\n",
       "sms_received               int64\n",
       "no_show                    int64\n",
       "dtype: object"
      ]
     },
     "execution_count": 12,
     "metadata": {},
     "output_type": "execute_result"
    }
   ],
   "source": [
    "#convert appointmentid and scheduledday data type from object to datatime format\n",
    "df_noshow.scheduledday = pd.to_datetime(df_noshow.scheduledday, format =  '%Y-%m-%dT%H:%M:%SZ')\n",
    "df_noshow.appointmentday = pd.to_datetime(df_noshow.appointmentday, format =  '%Y-%m-%dT%H:%M:%SZ')\n",
    "\n",
    "#confirm changes \n",
    "df_noshow.dtypes"
   ]
  },
  {
   "cell_type": "code",
   "execution_count": 13,
   "metadata": {},
   "outputs": [
    {
     "data": {
      "text/plain": [
       "count    110519.000000\n",
       "mean         37.084519\n",
       "std          23.103165\n",
       "min           0.000000\n",
       "25%          18.000000\n",
       "50%          37.000000\n",
       "75%          55.000000\n",
       "max         100.000000\n",
       "Name: age, dtype: float64"
      ]
     },
     "execution_count": 13,
     "metadata": {},
     "output_type": "execute_result"
    }
   ],
   "source": [
    "#Drop age rows which are below 0 and greater than 100\n",
    "df_noshow.drop(df_noshow[df_noshow.age < 0].index, inplace = True)\n",
    "df_noshow.drop(df_noshow[df_noshow.age > 100].index, inplace = True)\n",
    "\n",
    "#confirm changes\n",
    "df_noshow.age.describe()"
   ]
  },
  {
   "cell_type": "code",
   "execution_count": 14,
   "metadata": {},
   "outputs": [
    {
     "data": {
      "text/plain": [
       "0    Friday\n",
       "1    Friday\n",
       "2    Friday\n",
       "3    Friday\n",
       "4    Friday\n",
       "Name: weekday_appointmentid, dtype: object"
      ]
     },
     "execution_count": 14,
     "metadata": {},
     "output_type": "execute_result"
    }
   ],
   "source": [
    "#create new week day names column from appointment details\n",
    "df_noshow[\"weekday_appointmentid\"] = df_noshow.appointmentday.dt.weekday_name\n",
    "\n",
    "#confirm changes\n",
    "df_noshow.weekday_appointmentid.head()"
   ]
  },
  {
   "cell_type": "markdown",
   "metadata": {},
   "source": [
    "<a id='eda'></a>\n",
    "## Exploratory Data Analysis\n",
    "\n",
    "### Research Question 1 (How many number of patients turned up for the appointment?)"
   ]
  },
  {
   "cell_type": "code",
   "execution_count": 15,
   "metadata": {},
   "outputs": [
    {
     "name": "stdout",
     "output_type": "stream",
     "text": [
      "Turn up vs Non Turn up for the appointment\n",
      "Turn up = 79.81 %\n",
      "Non Turn up = 20.19 %\n"
     ]
    }
   ],
   "source": [
    "#number of patients turned up as well as non turn up for the appointment \n",
    "turnup_nonturnup = df_noshow.no_show.value_counts()\n",
    "turnup = turnup_nonturnup[1]/df_noshow.no_show.count()*100\n",
    "nonturnup = turnup_nonturnup[0]/df_noshow.no_show.count()*100\n",
    "print(\"Turn up vs Non Turn up for the appointment\")\n",
    "print(\"Turn up =\",round(turnup,2),\"%\")\n",
    "print(\"Non Turn up =\",round(nonturnup,2),\"%\")"
   ]
  },
  {
   "cell_type": "markdown",
   "metadata": {},
   "source": [
    "### Research Question 2 (How did the gender of the patient differ over the turn up for the appointment?)"
   ]
  },
  {
   "cell_type": "code",
   "execution_count": 16,
   "metadata": {},
   "outputs": [
    {
     "name": "stdout",
     "output_type": "stream",
     "text": [
      "gender  no_show\n",
      "F       1          57241\n",
      "        0          14591\n",
      "M       1          30962\n",
      "        0           7725\n",
      "Name: no_show, dtype: int64\n"
     ]
    }
   ],
   "source": [
    "#Turn up by gender\n",
    "gender = df_noshow.groupby(\"gender\").no_show.value_counts()\n",
    "print(gender)"
   ]
  },
  {
   "cell_type": "code",
   "execution_count": 17,
   "metadata": {},
   "outputs": [
    {
     "name": "stdout",
     "output_type": "stream",
     "text": [
      "Female = 65.0 %\n",
      "Male = 35.0 %\n"
     ]
    }
   ],
   "source": [
    "#Total Appointments by gender in percentage\n",
    "Female_appointments = gender[0:2].sum()/df_noshow.no_show.count()*100\n",
    "Male_appointments = gender[2:4].sum()/df_noshow.no_show.count()*100\n",
    "print(\"Female =\",round(Female_appointments,2), \"%\")\n",
    "print(\"Male =\", round(Male_appointments,2), \"%\")"
   ]
  },
  {
   "cell_type": "code",
   "execution_count": 18,
   "metadata": {},
   "outputs": [
    {
     "name": "stdout",
     "output_type": "stream",
     "text": [
      "Female Turn up = 79.69 %\n",
      "Male Turn up = 80.03 %\n"
     ]
    }
   ],
   "source": [
    "#proportion of turnup by gender in percentage\n",
    "Female_turnup = gender[0]/gender[0:2].sum()*100\n",
    "Male_turnup =   gender[2]/gender[2:4].sum()*100\n",
    "print(\"Female Turn up =\", round(Female_turnup,2),\"%\")\n",
    "print(\"Male Turn up =\", round(Male_turnup,2),\"%\")"
   ]
  },
  {
   "cell_type": "code",
   "execution_count": 19,
   "metadata": {},
   "outputs": [
    {
     "data": {
      "image/png": "[encoded data removed]",
      "text/plain": [
       "<Figure size 432x288 with 1 Axes>"
      ]
     },
     "metadata": {
      "needs_background": "light"
     },
     "output_type": "display_data"
    },
    {
     "data": {
      "image/png": "[encoded data removed]",
      "text/plain": [
       "<Figure size 432x288 with 1 Axes>"
      ]
     },
     "metadata": {
      "needs_background": "light"
     },
     "output_type": "display_data"
    }
   ],
   "source": [
    "#plot graph\n",
    "plt.bar([\"Female\", \"Male\"], [Female_appointments, Male_appointments])\n",
    "plt.title(\"Total Appointments by gender\")\n",
    "plt.xlabel(\"Gender\")\n",
    "plt.ylabel(\"Percentage\");\n",
    "plt.show()\n",
    "\n",
    "plt.bar([\"Female\", \"Male\"], [Female_turnup, Male_turnup])\n",
    "plt.title(\"Proportion of turnup by gender\")\n",
    "plt.xlabel(\"Gender\")\n",
    "plt.ylabel(\"Percentage\");\n",
    "plt.show()"
   ]
  },
  {
   "cell_type": "markdown",
   "metadata": {},
   "source": [
    "The females had a significantly high number of appointments compared to men. However, the turn up ratio for both has been very similar and is around 80%.\n"
   ]
  },
  {
   "cell_type": "markdown",
   "metadata": {},
   "source": [
    "### Research Question 2  (Did the paitents turn up because of the prioir sms of the appointment?)"
   ]
  },
  {
   "cell_type": "code",
   "execution_count": 20,
   "metadata": {},
   "outputs": [
    {
     "name": "stdout",
     "output_type": "stream",
     "text": [
      "sms_received  no_show\n",
      "0             1          62506\n",
      "              0          12532\n",
      "1             1          25697\n",
      "              0           9784\n",
      "Name: no_show, dtype: int64\n"
     ]
    }
   ],
   "source": [
    "#SMS \n",
    "sms = df_noshow.groupby(\"sms_received\").no_show.value_counts()\n",
    "print(sms)"
   ]
  },
  {
   "cell_type": "code",
   "execution_count": 21,
   "metadata": {},
   "outputs": [
    {
     "name": "stdout",
     "output_type": "stream",
     "text": [
      "Total number of SMS received by the patients =  35481\n",
      "SMS received by percentage = 32.0\n"
     ]
    }
   ],
   "source": [
    "#Number of patients who received SMS prior to the appointment\n",
    "sms_received = sms[2:4].sum()\n",
    "sms_received_percentage = sms[2:4].sum()/df_noshow.no_show.count()*100\n",
    "print(\"Total number of SMS received by the patients = \", sms_received)\n",
    "print(\"SMS received by percentage =\", round(sms_received_percentage))"
   ]
  },
  {
   "cell_type": "code",
   "execution_count": 22,
   "metadata": {},
   "outputs": [
    {
     "name": "stdout",
     "output_type": "stream",
     "text": [
      "patients who received sms and turned up for the appointment in percentage = 72.42467799667428\n",
      "patients who received sms and haven't turned up for the appointment in percentage = 27.575322003325724\n"
     ]
    }
   ],
   "source": [
    "#proportion of turnup and no turnup who has received sms prior to the appointment\n",
    "sms_received_turnup = sms[2]/sms_received*100\n",
    "sms_received_noturnup = sms[3]/sms_received*100\n",
    "print(\"patients who received sms and turned up for the appointment in percentage =\",sms_received_turnup)\n",
    "print(\"patients who received sms and haven't turned up for the appointment in percentage =\",sms_received_noturnup)"
   ]
  },
  {
   "cell_type": "code",
   "execution_count": 23,
   "metadata": {},
   "outputs": [
    {
     "data": {
      "image/png": "[encoded data removed]",
      "text/plain": [
       "<Figure size 432x288 with 1 Axes>"
      ]
     },
     "metadata": {
      "needs_background": "light"
     },
     "output_type": "display_data"
    }
   ],
   "source": [
    "plt.bar([\"Turn up\", \"No Turn up\"], [sms_received_turnup, sms_received_noturnup])\n",
    "plt.title(\"Percentage of turn up and non turn up of patients who has received sms\")\n",
    "plt.xlabel(\"Show up\")\n",
    "plt.ylabel(\"Percentage\");\n",
    "plt.show()"
   ]
  },
  {
   "cell_type": "markdown",
   "metadata": {},
   "source": [
    "There are only 32% of the patients have received the SMS and turn up percentage among them has been around 72%. Nevertheless, people who haven't received SMS has higher proportionate of turn up. Hence, we need to deepen our analysis to observe the waiting time i.e. difference between scheduled day and appointment day to observe whether SMS influences the patients to turn up or not."
   ]
  },
  {
   "cell_type": "markdown",
   "metadata": {},
   "source": [
    "### Research Question 3  (what are the total appointments by age group and how did each age group turned up to the appointment?)"
   ]
  },
  {
   "cell_type": "code",
   "execution_count": 24,
   "metadata": {},
   "outputs": [
    {
     "data": {
      "image/png": "[encoded data removed]",
      "text/plain": [
       "<Figure size 432x288 with 1 Axes>"
      ]
     },
     "metadata": {
      "needs_background": "light"
     },
     "output_type": "display_data"
    }
   ],
   "source": [
    "#histogram for age varaible\n",
    "df_noshow.age.hist();"
   ]
  },
  {
   "cell_type": "code",
   "execution_count": 25,
   "metadata": {},
   "outputs": [
    {
     "name": "stdout",
     "output_type": "stream",
     "text": [
      "Total Appointments by each age group as follows:\n",
      "Age 0 to 20 = 31848 - in percentage 28.82 %\n",
      "Age 21 to 40 = 28835 - in percentage 26.09 %\n",
      "Age 41 to 60 = 30081 - in percentage 27.22 %\n",
      "Age 61 to 80 = 16910 - in percentage 15.3 %\n",
      "Age 81 to 100 = 2845 - in percentage 2.57 %\n"
     ]
    }
   ],
   "source": [
    "#Total appointments by each age group\n",
    "age_0to20 = df_noshow.query(\"age >= 0 & age <= 20\").no_show.value_counts()\n",
    "age_21to40 = df_noshow.query(\"age >= 21 & age <= 40\").no_show.value_counts()\n",
    "age_41to60 = df_noshow.query(\"age >= 41 & age <= 60\").no_show.value_counts()\n",
    "age_61to80 = df_noshow.query(\"age >= 61 & age <= 80\").no_show.value_counts()\n",
    "age_81to100 = df_noshow.query(\"age >= 81 & age <= 100\").no_show.value_counts()\n",
    "print(\"Total Appointments by each age group as follows:\")\n",
    "print(\"Age 0 to 20 =\",age_0to20.sum(),\"- in percentage\",round(age_0to20.sum()/df_noshow.no_show.count()*100,2),\"%\")\n",
    "print(\"Age 21 to 40 =\",age_21to40.sum(),\"- in percentage\",round(age_21to40.sum()/df_noshow.no_show.count()*100,2),\"%\")\n",
    "print(\"Age 41 to 60 =\",age_41to60.sum(),\"- in percentage\",round(age_41to60.sum()/df_noshow.no_show.count()*100,2),\"%\")\n",
    "print(\"Age 61 to 80 =\",age_61to80.sum(),\"- in percentage\",round(age_61to80.sum()/df_noshow.no_show.count()*100,2),\"%\")\n",
    "print(\"Age 81 to 100 =\",age_81to100.sum(), \"- in percentage\",round(age_81to100.sum()/df_noshow.no_show.count()*100,2),\"%\")"
   ]
  },
  {
   "cell_type": "code",
   "execution_count": 26,
   "metadata": {},
   "outputs": [
    {
     "name": "stdout",
     "output_type": "stream",
     "text": [
      "proportionate of turn up by the patients for each age group in percentage:\n",
      "Age 0 to 20 = 77.72 %\n",
      "Age 21 to 40 = 77.02 %\n",
      "Age 41 to 60 = 81.41 %\n",
      "Age 61 to 80 = 85.0 %\n",
      "Age 81 to 100 = 85.0 %\n"
     ]
    }
   ],
   "source": [
    "#proportionate of turn up by the patients for each age group\n",
    "age0to20 = age_0to20[1]/age_0to20.sum()*100\n",
    "age21to40 = age_21to40[1]/age_21to40.sum()*100\n",
    "age41to60 = age_41to60[1]/age_41to60.sum()*100\n",
    "age61to80 = age_61to80[1]/age_61to80.sum()*100\n",
    "age81to100 = age_81to100[1]/age_81to100.sum()*100\n",
    "print(\"proportionate of turn up by the patients for each age group in percentage:\")\n",
    "print(\"Age 0 to 20 =\", round(age0to20,2),\"%\")\n",
    "print(\"Age 21 to 40 =\", round(age21to40,2),\"%\")\n",
    "print(\"Age 41 to 60 =\", round(age41to60,2),\"%\")\n",
    "print(\"Age 61 to 80 =\", round(age61to80,2),\"%\")\n",
    "print(\"Age 81 to 100 =\", round(age61to80,2),\"%\")"
   ]
  },
  {
   "cell_type": "code",
   "execution_count": 27,
   "metadata": {},
   "outputs": [],
   "source": [
    "#chart (proportionate of turn up vs non turn up by the patients for each age group)\n",
    "turnup_proportionsbyage = [age0to20,age21to40, age41to60,age61to80,age81to100]\n",
    "noturnup_proportionsbyage = [100 - age0to20,100 - age21to40, 100 - age41to60,100 - age61to80,100 - age81to100]\n",
    "ind = np.arange(len(turnup_proportionsbyage))\n",
    "width = 0.35"
   ]
  },
  {
   "cell_type": "code",
   "execution_count": 28,
   "metadata": {},
   "outputs": [
    {
     "data": {
      "image/png": "[encoded data removed]",
      "text/plain": [
       "<Figure size 432x288 with 1 Axes>"
      ]
     },
     "metadata": {
      "needs_background": "light"
     },
     "output_type": "display_data"
    }
   ],
   "source": [
    "#plot bars\n",
    "turnup_bars = plt.bar(ind, turnup_proportionsbyage, width, color= 'b', alpha = .7, label = \"Patient Turn up\")\n",
    "noturnup_bars = plt.bar(ind+width, noturnup_proportionsbyage,width, color= 'r', alpha = .7, label = \"Patient Not Turn up\" )\n",
    "\n",
    "# title and labels\n",
    "plt.ylabel('Percentage')\n",
    "plt.xlabel('Age')\n",
    "plt.title('Proportion of pateints turning up and not turning up by age category ')\n",
    "locations = ind + width /2\n",
    "labels = (['0-20','21-40','41-60','61-80','81-100'])\n",
    "plt.xticks(locations, labels)\n",
    "plt.show()"
   ]
  },
  {
   "cell_type": "markdown",
   "metadata": {},
   "source": [
    "82% of the Patients of this dataset were aged below 60. The proportionate of turn up for aged people is relatively higher than the patients who are aged 0 to 40. All the age groups have turn up ratio of more than 75%. "
   ]
  },
  {
   "cell_type": "markdown",
   "metadata": {},
   "source": [
    "### Research Question 4  (what is propotion of turn up on any day of the week?)"
   ]
  },
  {
   "cell_type": "code",
   "execution_count": 29,
   "metadata": {},
   "outputs": [
    {
     "name": "stdout",
     "output_type": "stream",
     "text": [
      "weekday_appointmentid  no_show\n",
      "Friday                 1          14981\n",
      "                       0           4037\n",
      "Monday                 1          18023\n",
      "                       0           4689\n",
      "Saturday               1             30\n",
      "                       0              9\n",
      "Thursday               1          13908\n",
      "                       0           3336\n",
      "Tuesday                1          20487\n",
      "                       0           5152\n",
      "Wednesday              1          20774\n",
      "                       0           5093\n",
      "Name: no_show, dtype: int64\n"
     ]
    }
   ],
   "source": [
    "#show up on the day of the week\n",
    "weekday_noshow = df_noshow.groupby([\"weekday_appointmentid\"]).no_show.value_counts()\n",
    "print(weekday_noshow)"
   ]
  },
  {
   "cell_type": "code",
   "execution_count": 30,
   "metadata": {},
   "outputs": [
    {
     "name": "stdout",
     "output_type": "stream",
     "text": [
      "Number of appointments based on the day of the week as follows:\n",
      "Monday = 22712\n",
      "Tuesday = 25639\n",
      "Wednesday = 25867\n",
      "Thursday = 17244\n",
      "Friday = 19018\n",
      "Saturday = 39\n"
     ]
    }
   ],
   "source": [
    "#Total appointments based on the day of the week\n",
    "monday_sum = weekday_noshow.iloc[2:4].sum()\n",
    "tuesday_sum = weekday_noshow.iloc[8:10].sum()\n",
    "wednesday_sum = weekday_noshow.iloc[10:12].sum()\n",
    "thursday_sum = weekday_noshow.iloc[6:8].sum()\n",
    "friday_sum = weekday_noshow.iloc[0:2].sum()\n",
    "saturday_sum = weekday_noshow.iloc[4:6].sum()\n",
    "print(\"Number of appointments based on the day of the week as follows:\")\n",
    "print(\"Monday =\", monday_sum)\n",
    "print(\"Tuesday =\", tuesday_sum)\n",
    "print(\"Wednesday =\", wednesday_sum)\n",
    "print(\"Thursday =\", thursday_sum)\n",
    "print(\"Friday =\", friday_sum)\n",
    "print(\"Saturday =\",saturday_sum)"
   ]
  },
  {
   "cell_type": "code",
   "execution_count": 31,
   "metadata": {
    "scrolled": true
   },
   "outputs": [
    {
     "name": "stdout",
     "output_type": "stream",
     "text": [
      "Number of appointments in percentage based on the day of the week as follows:\n",
      "Monday = 20.55 %\n",
      "Tuesday = 23.2 %\n",
      "Wednesday = 23.41 %\n",
      "Thursday = 15.6 %\n",
      "Friday = 17.21 %\n",
      "Saturday = 0.04 %\n"
     ]
    }
   ],
   "source": [
    "#Total appointments based on the day of the week in percentage\n",
    "monday = monday_sum/df_noshow.no_show.count()*100\n",
    "tuesday = tuesday_sum/df_noshow.no_show.count()*100\n",
    "wednesday = wednesday_sum/df_noshow.no_show.count()*100\n",
    "thursday = thursday_sum/df_noshow.no_show.count()*100\n",
    "friday = friday_sum/df_noshow.no_show.count()*100\n",
    "saturday = saturday_sum/df_noshow.no_show.count()*100\n",
    "print(\"Number of appointments in percentage based on the day of the week as follows:\")\n",
    "print(\"Monday =\", round(monday,2),\"%\")\n",
    "print(\"Tuesday =\", round(tuesday,2), \"%\")\n",
    "print(\"Wednesday =\", round(wednesday,2),\"%\")\n",
    "print(\"Thursday =\", round(thursday,2), \"%\")\n",
    "print(\"Friday =\", round(friday,2), \"%\")\n",
    "print(\"Saturday =\",round(saturday,2), \"%\")"
   ]
  },
  {
   "cell_type": "code",
   "execution_count": 32,
   "metadata": {},
   "outputs": [
    {
     "data": {
      "image/png": "[encoded data removed]",
      "text/plain": [
       "<Figure size 432x288 with 1 Axes>"
      ]
     },
     "metadata": {
      "needs_background": "light"
     },
     "output_type": "display_data"
    }
   ],
   "source": [
    "#plot bar chart\n",
    "plt.bar([\"Monday\", \"Tuesday\", \"Wednesday\", \"Thursday\",\"Friday\" , \"Saturday\"], [monday, tuesday, wednesday, thursday, friday, saturday])\n",
    "plt.title(\"Total Appointment by week day\")\n",
    "plt.xlabel(\"Day of the week\")\n",
    "plt.ylabel(\"Percentage\");\n",
    "plt.show()"
   ]
  },
  {
   "cell_type": "code",
   "execution_count": 33,
   "metadata": {},
   "outputs": [
    {
     "name": "stdout",
     "output_type": "stream",
     "text": [
      "Proportionate of turn up in percenatge on any day of the week as follows:\n",
      "Monday = 79.35 %\n",
      "Tuesday = 79.91 %\n",
      "Wednesday = 80.31 %\n",
      "Thursday = 80.65 %\n",
      "Friday = 78.77 %\n",
      "Saturday = 76.92 %\n"
     ]
    }
   ],
   "source": [
    "#proportionate of turn up on any day of the week\n",
    "monday_turnup = weekday_noshow.iat[2]/monday_sum*100\n",
    "tuesday_turnup = weekday_noshow.iat[8]/tuesday_sum*100\n",
    "wednesday_turnup = weekday_noshow.iat[10]/wednesday_sum*100\n",
    "thursday_turnup = weekday_noshow.iat[6]/thursday_sum*100\n",
    "friday_turnup = weekday_noshow.iat[0]/friday_sum*100\n",
    "saturday_turnup = weekday_noshow.iat[4]/saturday_sum*100\n",
    "print(\"Proportionate of turn up in percenatge on any day of the week as follows:\")\n",
    "print(\"Monday =\", round(monday_turnup,2),\"%\")\n",
    "print(\"Tuesday =\", round(tuesday_turnup,2),\"%\")\n",
    "print(\"Wednesday =\", round(wednesday_turnup,2),\"%\")\n",
    "print(\"Thursday =\", round(thursday_turnup,2),\"%\")\n",
    "print(\"Friday =\", round(friday_turnup,2),\"%\")\n",
    "print(\"Saturday =\", round(saturday_turnup,2),\"%\")"
   ]
  },
  {
   "cell_type": "code",
   "execution_count": 34,
   "metadata": {},
   "outputs": [
    {
     "data": {
      "image/png": "[encoded data removed]",
      "text/plain": [
       "<Figure size 432x288 with 1 Axes>"
      ]
     },
     "metadata": {
      "needs_background": "light"
     },
     "output_type": "display_data"
    }
   ],
   "source": [
    "#plot bar chart\n",
    "plt.bar([\"Monday\", \"Tuesday\", \"Wednesday\", \"Thursday\",\"Friday\" , \"Saturday\"], [monday_turnup, tuesday_turnup, wednesday_turnup, thursday_turnup, friday_turnup, saturday_turnup])\n",
    "plt.title(\"Proportion of turn up by week day\")\n",
    "plt.xlabel(\"Day of the week\")\n",
    "plt.ylabel(\"Percentage\");"
   ]
  },
  {
   "cell_type": "markdown",
   "metadata": {},
   "source": [
    "More than 60% of the appointmnets were on monday, tuesday and wednesday and proproportionate of turn up was around 80%"
   ]
  },
  {
   "cell_type": "markdown",
   "metadata": {},
   "source": [
    "### Research Question 5  (Are Hypertension and Diabetes patients turn up significantly compared to non-hypertension and diabetes?)"
   ]
  },
  {
   "cell_type": "code",
   "execution_count": 35,
   "metadata": {},
   "outputs": [
    {
     "name": "stdout",
     "output_type": "stream",
     "text": [
      "hypertension  diabetes  no_show\n",
      "0             0         1          69007\n",
      "                        0          18255\n",
      "              1         1           1168\n",
      "                        0            289\n",
      "1             0         1          12683\n",
      "                        0           2631\n",
      "              1         1           5345\n",
      "                        0           1141\n",
      "Name: no_show, dtype: int64\n"
     ]
    }
   ],
   "source": [
    "#Hypertension and Diabetes patients\n",
    "df_noshow_hyperdia = df_noshow.groupby([\"hypertension\",\"diabetes\"]).no_show.value_counts()\n",
    "print(df_noshow_hyperdia)"
   ]
  },
  {
   "cell_type": "code",
   "execution_count": 36,
   "metadata": {},
   "outputs": [
    {
     "name": "stdout",
     "output_type": "stream",
     "text": [
      "Patients who have hypertension and diabetes and turn up to the appointment = 82.41 %\n",
      "Patients who dont have hypertension and diabetes and turn up to the appointment = 79.08 %\n"
     ]
    }
   ],
   "source": [
    "#patients who have hypertension and diabetes and turn up to the appointment\n",
    "df_noshow_hyperdia_turnup = df_noshow_hyperdia[6]/df_noshow_hyperdia[6:8].sum()*100\n",
    "print(\"Patients who have hypertension and diabetes and turn up to the appointment =\",round(df_noshow_hyperdia_turnup,2),\"%\")\n",
    "\n",
    "#patients who dont have hypertension and diabetes and turn up to the appointment\n",
    "df_noshow_nohyperdia_turnup = df_noshow_hyperdia.iat[0]/df_noshow_hyperdia[0:2].sum()*100\n",
    "print(\"Patients who dont have hypertension and diabetes and turn up to the appointment =\",round(df_noshow_nohyperdia_turnup,2),\"%\")"
   ]
  },
  {
   "cell_type": "code",
   "execution_count": 37,
   "metadata": {},
   "outputs": [
    {
     "data": {
      "image/png": "[encoded data removed]",
      "text/plain": [
       "<Figure size 432x288 with 1 Axes>"
      ]
     },
     "metadata": {
      "needs_background": "light"
     },
     "output_type": "display_data"
    }
   ],
   "source": [
    "#plot bar chart\n",
    "plt.bar([\"Hypertension and Diabetes turn up\", \"Non Hypertension and Diabetes turn up\"], [df_noshow_hyperdia_turnup, df_noshow_nohyperdia_turnup])\n",
    "plt.title(\"Proportion of Hypertension and Diabetes patients turn up vs. non Hypertension and Diabetes patients turn up\")\n",
    "plt.xlabel(\"Show up\")\n",
    "plt.ylabel(\"Percentage\");\n",
    "plt.show()"
   ]
  },
  {
   "cell_type": "markdown",
   "metadata": {},
   "source": [
    "This group of patients has very minimal number of both Hypertension and Diabetes patients. The proportionate of both Hypertension and Diabetes patients are slightly higher than the patients with no Hypertension and Diabetes. "
   ]
  },
  {
   "cell_type": "markdown",
   "metadata": {},
   "source": [
    "### Research Question 6  (which Neighbourhood has high number of appointment ?)"
   ]
  },
  {
   "cell_type": "code",
   "execution_count": 38,
   "metadata": {},
   "outputs": [
    {
     "name": "stdout",
     "output_type": "stream",
     "text": [
      "neighbourhood\n",
      "JARDIM CAMBURI       6.98\n",
      "MARIA ORTIZ          5.25\n",
      "RESISTÊNCIA          4.01\n",
      "JARDIM DA PENHA      3.51\n",
      "ITARARÉ              3.18\n",
      "CENTRO               3.02\n",
      "TABUAZEIRO           2.83\n",
      "SANTA MARTHA         2.83\n",
      "JESUS DE NAZARETH    2.58\n",
      "BONFIM               2.51\n",
      "Name: no_show, dtype: float64\n"
     ]
    }
   ],
   "source": [
    "#Top 10 neighbourhood\n",
    "df_noshow_neighbourhood = df_noshow.groupby([\"neighbourhood\"]).no_show.count()\n",
    "df_noshow_neighbourhood_plot = df_noshow_neighbourhood.nlargest(10)/df_noshow.no_show.count()*100\n",
    "print(round(df_noshow_neighbourhood_plot,2))"
   ]
  },
  {
   "cell_type": "code",
   "execution_count": 39,
   "metadata": {},
   "outputs": [
    {
     "data": {
      "image/png": "[encoded data removed]",
      "text/plain": [
       "<Figure size 432x288 with 1 Axes>"
      ]
     },
     "metadata": {
      "needs_background": "light"
     },
     "output_type": "display_data"
    }
   ],
   "source": [
    "#plot bar chart\n",
    "plt.bar(df_noshow_neighbourhood_plot.index,df_noshow_neighbourhood_plot.values)\n",
    "plt.xlabel('Neighbourhood', fontsize=5)\n",
    "plt.ylabel('Percentage of total appointments', fontsize=5)\n",
    "plt.xticks(df_noshow_neighbourhood_plot.index, df_noshow_neighbourhood_plot.values, fontsize=5, rotation=100)\n",
    "plt.title('Top 10 neighbourhood share of total appointments')\n",
    "plt.show() "
   ]
  },
  {
   "cell_type": "markdown",
   "metadata": {},
   "source": [
    "### Research Question 7  (How many patients have Scholarship and does that influence the turn up for the appointment?)"
   ]
  },
  {
   "cell_type": "code",
   "execution_count": 40,
   "metadata": {},
   "outputs": [
    {
     "name": "stdout",
     "output_type": "stream",
     "text": [
      "scholarship  no_show\n",
      "0            1          79920\n",
      "             0          19738\n",
      "1            1           8283\n",
      "             0           2578\n",
      "Name: no_show, dtype: int64\n"
     ]
    }
   ],
   "source": [
    "#Scholarship \n",
    "df_noshow_scholarship = df_noshow.groupby([\"scholarship\"]).no_show.value_counts()\n",
    "print(df_noshow_scholarship)"
   ]
  },
  {
   "cell_type": "code",
   "execution_count": 41,
   "metadata": {},
   "outputs": [
    {
     "name": "stdout",
     "output_type": "stream",
     "text": [
      "Patients with no Scholarship = 99658\n",
      "Patients with Scholarship = 10861\n"
     ]
    }
   ],
   "source": [
    "print(\"Patients with no Scholarship =\",df_noshow_scholarship[0:2].sum())\n",
    "print(\"Patients with Scholarship =\",df_noshow_scholarship[2:4].sum())"
   ]
  },
  {
   "cell_type": "markdown",
   "metadata": {},
   "source": [
    "From the above analysis, we can observe that only 10% of patients of this group has scholarship. Since very few patients are enrolled in Brazilian welfare program, we don't see scholarship as significant variable to influence the turn up.  "
   ]
  },
  {
   "cell_type": "markdown",
   "metadata": {},
   "source": [
    "<a id='conclusions'></a>\n",
    "## Conclusions\n",
    "\n",
    "After exploring this dataset related to the patients turn out for the appointment, we observe that 80% of patient have tuned up for the appointment. Across all the categories of variables compared with the no show variable, show us that mostly the turn out for the appointment has been between 76% to 83%. \n",
    "\n",
    "The limitation is that the dataset has been only used to provide insights about the data. No forecast of independent variable. We have compared independent variable with only one dependent variable at a time. \n",
    "  "
   ]
  }
 ],
 "metadata": {
  "kernelspec": {
   "display_name": "Python 3",
   "language": "python",
   "name": "python3"
  },
  "language_info": {
   "codemirror_mode": {
    "name": "ipython",
    "version": 3
   },
   "file_extension": ".py",
   "mimetype": "text/x-python",
   "name": "python",
   "nbconvert_exporter": "python",
   "pygments_lexer": "ipython3",
   "version": "3.7.1"
  }
 },
 "nbformat": 4,
 "nbformat_minor": 2
}
